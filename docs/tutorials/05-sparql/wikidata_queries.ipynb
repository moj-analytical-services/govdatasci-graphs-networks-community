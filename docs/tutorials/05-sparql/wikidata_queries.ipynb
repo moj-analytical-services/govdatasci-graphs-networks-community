{
 "cells": [
  {
   "cell_type": "markdown",
   "metadata": {},
   "source": [
    "# Querying graph databases with Sparql\n",
    "\n",
    "** Tutorial created by Alec Johnson **\n",
    "\n",
    "\n",
    "This notebook contains examples and some challenges on using Sparql to query graph databases. These examples access the Wikidata endpoint. \n",
    "\n",
    "You can also [use the Wikidata Query Servce](https://query.wikidata.org/), which has tooltips for node and edge labels."
   ]
  },
  {
   "cell_type": "code",
   "execution_count": null,
   "metadata": {},
   "outputs": [],
   "source": [
    "import pandas as pd\n",
    "\n",
    "from SPARQLWrapper import SPARQLWrapper, JSON\n",
    "\n",
    "endpoint = \"https://query.wikidata.org/sparql\""
   ]
  },
  {
   "cell_type": "code",
   "execution_count": null,
   "metadata": {},
   "outputs": [],
   "source": [
    "def sparql_pandas(query: str, endpoint: str):\n",
    "    \"\"\"\n",
    "    Query the endpoint with the given query string and return the results as a pandas Dataframe.\n",
    "    \n",
    "    Arguments:\n",
    "        query (str): a Sparql query written into a string\n",
    "        endpoint (str): the url of the service to query, including https://\n",
    "    \n",
    "    Returns:\n",
    "        pd.DataFrame: query response formed into a table\n",
    "    \"\"\"\n",
    "    sparql = SPARQLWrapper(endpoint, agent=\"Sparql Wrapper in Jupyter notebook\")  \n",
    "    \n",
    "    sparql.setQuery(query)\n",
    "    sparql.setReturnFormat(JSON)\n",
    "\n",
    "    result = sparql.query().convert()\n",
    "    return pd.json_normalize(result[\"results\"][\"bindings\"])"
   ]
  },
  {
   "cell_type": "markdown",
   "metadata": {},
   "source": [
    "## Example\n",
    "This query finds 20 American journalists in no particular order\n",
    "\n",
    "The SERVICE line is a wikidata-specific thing, not part of regular Sparql. It specifies the language used in the labels. \n",
    "\n",
    "The labels are requested by the addition of 'Label' after the variable in the select clause. This makes sure you get human-readable results rather than unique ids."
   ]
  },
  {
   "cell_type": "code",
   "execution_count": null,
   "metadata": {},
   "outputs": [],
   "source": [
    "journalists = \"\"\"\n",
    "    SELECT ?personLabel\n",
    "        WHERE {\n",
    "            ?person \twdt:P106 \twd:Q1930187 .\n",
    "            ?person \twdt:P27 \twd:Q30 .\n",
    "            SERVICE wikibase:label { \n",
    "                bd:serviceParam wikibase:language \"[AUTO_LANGUAGE],en\".\n",
    "                }\n",
    "        }\n",
    "    LIMIT 20\n",
    "\"\"\"\n",
    "\n",
    "sparql_pandas(journalists, endpoint)"
   ]
  },
  {
   "cell_type": "markdown",
   "metadata": {},
   "source": [
    "## Challenge 1\n",
    "Find 100 paintings containing cats\n",
    "\n",
    "Useful wikidata object names:\n",
    "- wd:Q3305213 = 'painting'\n",
    "- wd:Q146 = 'house cat'\n",
    "- wdt:P180 = 'depicts'\n",
    "- wdt:P31 = 'instance of'\n",
    "- wdt:P18 = 'image' (used for image files)\n",
    "\n",
    "See my [sample answer](https://w.wiki/xtS)"
   ]
  },
  {
   "cell_type": "code",
   "execution_count": null,
   "metadata": {},
   "outputs": [],
   "source": [
    "cats1 = \"\"\"\n",
    "    SELECT \n",
    "        WHERE {\n",
    "           \n",
    "            SERVICE wikibase:label { \n",
    "                bd:serviceParam wikibase:language \"[AUTO_LANGUAGE],en\".\n",
    "                }\n",
    "        }\n",
    "\"\"\"\n",
    "\n",
    "sparql_pandas(cats1, endpoint)"
   ]
  },
  {
   "cell_type": "markdown",
   "metadata": {},
   "source": [
    "## Challenge 2\n",
    "Find 100 paintings containing cats, painted in the 19th century\n",
    "\n",
    "More object names:\n",
    "- wdt:P571 = 'inception' (used for when something was made)\n",
    "\n",
    "See my [sample answer](https://w.wiki/xta)"
   ]
  },
  {
   "cell_type": "code",
   "execution_count": null,
   "metadata": {},
   "outputs": [],
   "source": [
    "cats2 = \"\"\"\n",
    "    SELECT \n",
    "        WHERE {\n",
    "           \n",
    "            SERVICE wikibase:label { \n",
    "                bd:serviceParam wikibase:language \"[AUTO_LANGUAGE],en\".\n",
    "                }\n",
    "        }\n",
    "\"\"\"\n",
    "\n",
    "sparql_pandas(cats2, endpoint)"
   ]
  },
  {
   "cell_type": "markdown",
   "metadata": {},
   "source": [
    "## Challenge 3\n",
    "Find all paintings containing cats, painted in the 19th century, by artists who were US citizens\n",
    "\n",
    "More object names:\n",
    "- wdt:P170 = 'creator' (mostly 'has creator', not 'creator of' - though it's used both ways)\n",
    "- wdt:P27 = 'has citizenship of'\n",
    "- wd:Q30 = the US\n",
    "\n",
    "See my [sample answer](https://w.wiki/xt$)"
   ]
  },
  {
   "cell_type": "code",
   "execution_count": null,
   "metadata": {},
   "outputs": [],
   "source": [
    "cats3 = \"\"\"\n",
    "    SELECT \n",
    "        WHERE {\n",
    "           \n",
    "            SERVICE wikibase:label { \n",
    "                bd:serviceParam wikibase:language \"[AUTO_LANGUAGE],en\".\n",
    "                }\n",
    "        }\n",
    "\"\"\"\n",
    "\n",
    "sparql_pandas(cats3, endpoint)"
   ]
  },
  {
   "cell_type": "markdown",
   "metadata": {},
   "source": [
    "## Challenge 4\n",
    "Find all paintings containing cats, painted in the 19th century, by artists who were US citizens who have also painted dogs\n",
    "\n",
    "More object names:\n",
    "- wdt:Q144 = 'dog'\n",
    "\n",
    "See my [sample answer](https://w.wiki/xu4)"
   ]
  },
  {
   "cell_type": "code",
   "execution_count": null,
   "metadata": {},
   "outputs": [],
   "source": [
    "cats4 = \"\"\"\n",
    "    SELECT \n",
    "        WHERE {\n",
    "           \n",
    "            SERVICE wikibase:label { \n",
    "                bd:serviceParam wikibase:language \"[AUTO_LANGUAGE],en\".\n",
    "                }\n",
    "        }\n",
    "\"\"\"\n",
    "\n",
    "sparql_pandas(cats4, endpoint)"
   ]
  },
  {
   "cell_type": "markdown",
   "metadata": {},
   "source": [
    "## Further examples\n",
    "The queries below are just for reference. They show some of other uses and syntax of Sparql. They're in roughly ascending trickiness."
   ]
  },
  {
   "cell_type": "code",
   "execution_count": null,
   "metadata": {},
   "outputs": [],
   "source": [
    "## Using COUNT to find the number of American journalists not born in Chicago\n",
    "no_chicago = \"\"\"\n",
    "    SELECT (COUNT (?person) as ?personLabel)\n",
    "        WHERE {\n",
    "            ?person \twdt:P106 \twd:Q1930187 ;\n",
    "                        wdt:P27 \twd:Q30 .\n",
    "            ?person \twdt:P19 \t?place .\n",
    "            FILTER (?place != wd:Q1297)\n",
    "            SERVICE wikibase:label { \n",
    "                bd:serviceParam wikibase:language \"[AUTO_LANGUAGE],en\". \n",
    "                }  \n",
    "    }\n",
    "\"\"\"\n",
    "sparql_pandas(no_chicago, endpoint)"
   ]
  },
  {
   "cell_type": "code",
   "execution_count": null,
   "metadata": {},
   "outputs": [],
   "source": [
    "# Use UNION to find Scottish poets and novelists\n",
    "# And use a chain to find birthplaces that are in Scotland, not just = Scotland\n",
    "writers = \"\"\"\n",
    "    SELECT DISTINCT ?writerLabel \n",
    "    WHERE {\n",
    "        {?writer wdt:P106 wd:Q49757 .} \n",
    "        UNION \n",
    "        {?writer wdt:P106 wd:Q6625963 .}\n",
    "        ?writer wdt:P19 ?place .\n",
    "        ?place wdt:P131* wd:Q22 .\n",
    "        SERVICE wikibase:label {\n",
    "            bd:serviceParam wikibase:language \"[AUTO_LANGUAGE],en\".\n",
    "        }  \n",
    "    }\n",
    "    LIMIT 20\n",
    "\"\"\"\n",
    "sparql_pandas(writers, endpoint)"
   ]
  },
  {
   "cell_type": "code",
   "execution_count": null,
   "metadata": {},
   "outputs": [],
   "source": [
    "# Use layers to make a colour-coded map of where astronauts were born\n",
    "# Best seen on Wikidata where you can select map view: https://w.wiki/BSW\n",
    "space = \"\"\"\n",
    "    SELECT ?location ?birthplaceLabel ?personLabel ?layerLabel\n",
    "    WHERE {\n",
    "        ?person wdt:P31 wd:Q5 ;\n",
    "                wdt:P106 wd:Q11631 ;\n",
    "                wdt:P19 ?birthplace ;\n",
    "                wdt:P21 ?gender .\n",
    "        ?birthplace wdt:P625 ?location .\n",
    "        BIND(?gender AS ?layer) \n",
    "        SERVICE wikibase:label { \n",
    "            bd:serviceParam wikibase:language \"[AUTO_LANGUAGE],en\". \n",
    "        }\n",
    "    }\n",
    "\"\"\"\n",
    "sparql_pandas(space, endpoint)"
   ]
  },
  {
   "cell_type": "code",
   "execution_count": null,
   "metadata": {},
   "outputs": [],
   "source": [
    "# 10 largest cities with female mayors\n",
    "# Use FILTER NOT EXISTS to find current mayors\n",
    "# by only selecting where the job has no end date\n",
    "mayors = \"\"\"\n",
    "    SELECT DISTINCT ?cityLabel ?population ?mayorLabel WHERE {\n",
    "      ?city wdt:P31/wdt:P279* wd:Q515 ; # city or subclass of city\n",
    "            wdt:P1082 ?population ; # has population\n",
    "            p:P6 ?ruler .\n",
    "      ?ruler ps:P6 ?mayor .\n",
    "      ?mayor wdt:P39 wd:Q30185 ; # is a mayor (or leave this out to find just head of a city)\n",
    "             wdt:P21 wd:Q6581072 . # is a woman\n",
    "      FILTER NOT EXISTS { ?ruler pq:P582 ?x } # no end date - ie current\n",
    "      SERVICE wikibase:label {\n",
    "          bd:serviceParam wikibase:language \"[AUTO_LANGUAGE],en\". }\n",
    "          }\n",
    "    ORDER BY DESC (?population)\n",
    "    LIMIT 10\n",
    "\"\"\"\n",
    "sparql_pandas(mayors, endpoint)"
   ]
  },
  {
   "cell_type": "code",
   "execution_count": null,
   "metadata": {},
   "outputs": [],
   "source": []
  }
 ],
 "metadata": {
  "kernelspec": {
   "display_name": "Python 3",
   "language": "python",
   "name": "python3"
  },
  "language_info": {
   "codemirror_mode": {
    "name": "ipython",
    "version": 3
   },
   "file_extension": ".py",
   "mimetype": "text/x-python",
   "name": "python",
   "nbconvert_exporter": "python",
   "pygments_lexer": "ipython3",
   "version": "3.8.5"
  }
 },
 "nbformat": 4,
 "nbformat_minor": 4
}
